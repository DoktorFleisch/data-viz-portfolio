{
 "cells": [
  {
   "cell_type": "code",
   "execution_count": 1,
   "metadata": {
    "ExecuteTime": {
     "end_time": "2023-11-29T22:57:25.924018300Z",
     "start_time": "2023-11-29T22:57:25.896435800Z"
    }
   },
   "outputs": [],
   "source": [
    "import matplotlib.pyplot as plt\n",
    "import numpy as np\n",
    "import pandas as pd\n",
    "import seaborn as sns"
   ]
  },
  {
   "cell_type": "code",
   "execution_count": 3,
   "outputs": [],
   "source": [
    "df = pd.read_csv('all_data.csv')"
   ],
   "metadata": {
    "collapsed": false,
    "ExecuteTime": {
     "end_time": "2023-11-29T22:57:45.300296900Z",
     "start_time": "2023-11-29T22:57:45.276440400Z"
    }
   }
  },
  {
   "cell_type": "code",
   "execution_count": 4,
   "outputs": [
    {
     "data": {
      "text/plain": "  Country  Year  Life expectancy at birth (years)           GDP\n0   Chile  2000                              77.3  7.786093e+10\n1   Chile  2001                              77.3  7.097992e+10\n2   Chile  2002                              77.8  6.973681e+10\n3   Chile  2003                              77.9  7.564346e+10\n4   Chile  2004                              78.0  9.921039e+10",
      "text/html": "<div>\n<style scoped>\n    .dataframe tbody tr th:only-of-type {\n        vertical-align: middle;\n    }\n\n    .dataframe tbody tr th {\n        vertical-align: top;\n    }\n\n    .dataframe thead th {\n        text-align: right;\n    }\n</style>\n<table border=\"1\" class=\"dataframe\">\n  <thead>\n    <tr style=\"text-align: right;\">\n      <th></th>\n      <th>Country</th>\n      <th>Year</th>\n      <th>Life expectancy at birth (years)</th>\n      <th>GDP</th>\n    </tr>\n  </thead>\n  <tbody>\n    <tr>\n      <th>0</th>\n      <td>Chile</td>\n      <td>2000</td>\n      <td>77.3</td>\n      <td>7.786093e+10</td>\n    </tr>\n    <tr>\n      <th>1</th>\n      <td>Chile</td>\n      <td>2001</td>\n      <td>77.3</td>\n      <td>7.097992e+10</td>\n    </tr>\n    <tr>\n      <th>2</th>\n      <td>Chile</td>\n      <td>2002</td>\n      <td>77.8</td>\n      <td>6.973681e+10</td>\n    </tr>\n    <tr>\n      <th>3</th>\n      <td>Chile</td>\n      <td>2003</td>\n      <td>77.9</td>\n      <td>7.564346e+10</td>\n    </tr>\n    <tr>\n      <th>4</th>\n      <td>Chile</td>\n      <td>2004</td>\n      <td>78.0</td>\n      <td>9.921039e+10</td>\n    </tr>\n  </tbody>\n</table>\n</div>"
     },
     "execution_count": 4,
     "metadata": {},
     "output_type": "execute_result"
    }
   ],
   "source": [
    "df.head()"
   ],
   "metadata": {
    "collapsed": false,
    "ExecuteTime": {
     "end_time": "2023-11-29T22:57:48.962269600Z",
     "start_time": "2023-11-29T22:57:48.913400500Z"
    }
   }
  },
  {
   "cell_type": "code",
   "execution_count": 5,
   "outputs": [
    {
     "name": "stdout",
     "output_type": "stream",
     "text": [
      "<class 'pandas.core.frame.DataFrame'>\n",
      "RangeIndex: 96 entries, 0 to 95\n",
      "Data columns (total 4 columns):\n",
      " #   Column                            Non-Null Count  Dtype  \n",
      "---  ------                            --------------  -----  \n",
      " 0   Country                           96 non-null     object \n",
      " 1   Year                              96 non-null     int64  \n",
      " 2   Life expectancy at birth (years)  96 non-null     float64\n",
      " 3   GDP                               96 non-null     float64\n",
      "dtypes: float64(2), int64(1), object(1)\n",
      "memory usage: 3.1+ KB\n"
     ]
    }
   ],
   "source": [
    "df.info()"
   ],
   "metadata": {
    "collapsed": false,
    "ExecuteTime": {
     "end_time": "2023-11-29T22:57:54.984021800Z",
     "start_time": "2023-11-29T22:57:54.813871100Z"
    }
   }
  },
  {
   "cell_type": "code",
   "execution_count": 6,
   "outputs": [
    {
     "data": {
      "text/plain": "              Year  Life expectancy at birth (years)           GDP\ncount    96.000000                         96.000000  9.600000e+01\nmean   2007.500000                         72.789583  3.880499e+12\nstd       4.633971                         10.672882  5.197561e+12\nmin    2000.000000                         44.300000  4.415703e+09\n25%    2003.750000                         74.475000  1.733018e+11\n50%    2007.500000                         76.750000  1.280220e+12\n75%    2011.250000                         78.900000  4.067510e+12\nmax    2015.000000                         81.000000  1.810000e+13",
      "text/html": "<div>\n<style scoped>\n    .dataframe tbody tr th:only-of-type {\n        vertical-align: middle;\n    }\n\n    .dataframe tbody tr th {\n        vertical-align: top;\n    }\n\n    .dataframe thead th {\n        text-align: right;\n    }\n</style>\n<table border=\"1\" class=\"dataframe\">\n  <thead>\n    <tr style=\"text-align: right;\">\n      <th></th>\n      <th>Year</th>\n      <th>Life expectancy at birth (years)</th>\n      <th>GDP</th>\n    </tr>\n  </thead>\n  <tbody>\n    <tr>\n      <th>count</th>\n      <td>96.000000</td>\n      <td>96.000000</td>\n      <td>9.600000e+01</td>\n    </tr>\n    <tr>\n      <th>mean</th>\n      <td>2007.500000</td>\n      <td>72.789583</td>\n      <td>3.880499e+12</td>\n    </tr>\n    <tr>\n      <th>std</th>\n      <td>4.633971</td>\n      <td>10.672882</td>\n      <td>5.197561e+12</td>\n    </tr>\n    <tr>\n      <th>min</th>\n      <td>2000.000000</td>\n      <td>44.300000</td>\n      <td>4.415703e+09</td>\n    </tr>\n    <tr>\n      <th>25%</th>\n      <td>2003.750000</td>\n      <td>74.475000</td>\n      <td>1.733018e+11</td>\n    </tr>\n    <tr>\n      <th>50%</th>\n      <td>2007.500000</td>\n      <td>76.750000</td>\n      <td>1.280220e+12</td>\n    </tr>\n    <tr>\n      <th>75%</th>\n      <td>2011.250000</td>\n      <td>78.900000</td>\n      <td>4.067510e+12</td>\n    </tr>\n    <tr>\n      <th>max</th>\n      <td>2015.000000</td>\n      <td>81.000000</td>\n      <td>1.810000e+13</td>\n    </tr>\n  </tbody>\n</table>\n</div>"
     },
     "execution_count": 6,
     "metadata": {},
     "output_type": "execute_result"
    }
   ],
   "source": [
    "df.describe()"
   ],
   "metadata": {
    "collapsed": false,
    "ExecuteTime": {
     "end_time": "2023-11-29T22:58:01.749166500Z",
     "start_time": "2023-11-29T22:58:01.695741200Z"
    }
   }
  },
  {
   "cell_type": "code",
   "execution_count": null,
   "outputs": [],
   "source": [],
   "metadata": {
    "collapsed": false
   }
  }
 ],
 "metadata": {
  "kernelspec": {
   "display_name": "Python 3",
   "language": "python",
   "name": "python3"
  },
  "language_info": {
   "codemirror_mode": {
    "name": "ipython",
    "version": 3
   },
   "file_extension": ".py",
   "mimetype": "text/x-python",
   "name": "python",
   "nbconvert_exporter": "python",
   "pygments_lexer": "ipython3",
   "version": "3.7.6"
  }
 },
 "nbformat": 4,
 "nbformat_minor": 4
}
